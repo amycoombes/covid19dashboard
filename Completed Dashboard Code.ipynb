{
 "cells": [
  {
   "cell_type": "markdown",
   "id": "afae5ff8-ec76-4834-8540-f76a4c38e865",
   "metadata": {},
   "source": [
    "# COVID-19 Dashboard"
   ]
  },
  {
   "cell_type": "markdown",
   "id": "ffa056ed-417a-469b-a3e1-67a329ef616b",
   "metadata": {},
   "source": [
    "This dashboard was created using [Public Health England](https://www.gov.uk/government/organisations/public-health-england) (PHE) data to present up-to-date vaccination dose (Pfizer/BioNTech or Oxford/AstraZeneca) statistics. "
   ]
  },
  {
   "cell_type": "markdown",
   "id": "97b9fd9f-7327-4353-b4a1-41963bb701db",
   "metadata": {},
   "source": [
    "Tables and graphs were created using pandas, matplotlib, numpy and ipywidgets libraries. "
   ]
  },
  {
   "cell_type": "markdown",
   "id": "475deef0-614f-4ffe-9eb6-23589599a0f4",
   "metadata": {},
   "source": [
    "This dashboard filters [COVID-19 API data](https://coronavirus.data.gov.uk/details/developers-guide/main-api) in the following ways:\n",
    "\n",
    "* First, Second and Third Doses (cumulative totals)\n",
    "* NHS Region of Residence (nation = England)\n",
    "* Age Group (all age groups)\n",
    "* Gender (all genders)\n",
    "* Ethnic Groups (all ethnic groups)"
   ]
  },
  {
   "cell_type": "code",
   "execution_count": 17,
   "id": "8ca71e69-4002-49c3-b73e-fd26b835e910",
   "metadata": {},
   "outputs": [],
   "source": [
    "from IPython.display import clear_output\n",
    "import ipywidgets as wdg\n",
    "import pandas as pd\n",
    "import matplotlib.pyplot as plt\n",
    "import numpy as np\n",
    "from uk_covid19 import Cov19API\n",
    "import json "
   ]
  },
  {
   "cell_type": "code",
   "execution_count": 18,
   "id": "a9b43bd0-57fc-47bf-b461-4d05d9a1726f",
   "metadata": {},
   "outputs": [],
   "source": [
    "%matplotlib inline\n",
    "plt.rcParams['figure.dpi'] = 100"
   ]
  },
  {
   "cell_type": "code",
   "execution_count": 19,
   "id": "82556d51-899b-48fd-84f2-a8489f347535",
   "metadata": {},
   "outputs": [],
   "source": [
    "jsondata={}"
   ]
  },
  {
   "cell_type": "code",
   "execution_count": 24,
   "id": "5613a9f8-2c8b-4b25-89e4-c7b1bc621670",
   "metadata": {},
   "outputs": [],
   "source": [
    "filters = [\n",
    "    'areaType=nation',\n",
    "    'areaName=England'\n",
    "]\n",
    "structure = {\n",
    "    \"date\": \"date\",\n",
    "    \"firstdose\": \"cumPeopleVaccinatedFirstDoseByPublishDate\",\n",
    "    \"seconddose\": \"cumPeopleVaccinatedSecondDoseByPublishDate\",\n",
    "    \"thirddose\": \"cumPeopleVaccinatedThirdDoseByPublishDate\"\n",
    "}"
   ]
  },
  {
   "cell_type": "code",
   "execution_count": 25,
   "id": "78a05a2f-f1c1-441d-8aaf-241856bdba44",
   "metadata": {},
   "outputs": [],
   "source": [
    "api = Cov19API(filters=filters, structure=structure)\n",
    "\n",
    "doseseries=api.get_json()"
   ]
  },
  {
   "cell_type": "code",
   "execution_count": 26,
   "id": "5239405e-f0de-4e29-a27d-0e6f187be89b",
   "metadata": {},
   "outputs": [],
   "source": [
    "with open(\"doseseries.json\", \"wt\") as OUTF:\n",
    "    json.dump(doseseries, OUTF)"
   ]
  },
  {
   "cell_type": "code",
   "execution_count": 27,
   "id": "5f171760-5051-4024-a59f-2fdd7c68ed3d",
   "metadata": {},
   "outputs": [],
   "source": [
    "with open(\"doseseries.json\", \"rt\") as INFILE:\n",
    "    data=json.load(INFILE)"
   ]
  },
  {
   "cell_type": "code",
   "execution_count": 28,
   "id": "03a49a4e-b1f8-4ebf-a9d7-0df3f1b97a1a",
   "metadata": {},
   "outputs": [],
   "source": [
    "datalist=data['data']"
   ]
  },
  {
   "cell_type": "code",
   "execution_count": 29,
   "id": "2ab98251-7dd9-42df-a72d-e524dfec6dfb",
   "metadata": {},
   "outputs": [],
   "source": [
    "dates=[dictionary['date'] for dictionary in datalist ]\n",
    "dates.sort()"
   ]
  },
  {
   "cell_type": "code",
   "execution_count": 30,
   "id": "4f1aaea3-6109-4fe5-8fe3-67bbe815e306",
   "metadata": {},
   "outputs": [],
   "source": [
    "def parse_date(datestring):\n",
    "    return pd.to_datetime(datestring, format=\"%Y-%m-%d\")"
   ]
  },
  {
   "cell_type": "code",
   "execution_count": 31,
   "id": "5365669d-c1ad-46f8-9f46-b451eca0318d",
   "metadata": {},
   "outputs": [],
   "source": [
    "startdate=parse_date(dates[0])\n",
    "enddate=parse_date(dates[-1])"
   ]
  },
  {
   "cell_type": "code",
   "execution_count": 32,
   "id": "c68e1424-1cfc-4813-99c0-505f0bfdf6b2",
   "metadata": {},
   "outputs": [],
   "source": [
    "index=pd.date_range(startdate, enddate, freq='D')\n",
    "doseseriesdf=pd.DataFrame(index=index, columns=['firstdose', 'seconddose', 'thirddose'])"
   ]
  },
  {
   "cell_type": "code",
   "execution_count": 33,
   "id": "16721a8d-6d49-4970-b257-ffa2437e0e8f",
   "metadata": {},
   "outputs": [
    {
     "data": {
      "text/html": [
       "<div>\n",
       "<style scoped>\n",
       "    .dataframe tbody tr th:only-of-type {\n",
       "        vertical-align: middle;\n",
       "    }\n",
       "\n",
       "    .dataframe tbody tr th {\n",
       "        vertical-align: top;\n",
       "    }\n",
       "\n",
       "    .dataframe thead th {\n",
       "        text-align: right;\n",
       "    }\n",
       "</style>\n",
       "<table border=\"1\" class=\"dataframe\">\n",
       "  <thead>\n",
       "    <tr style=\"text-align: right;\">\n",
       "      <th></th>\n",
       "      <th>firstdose</th>\n",
       "      <th>seconddose</th>\n",
       "      <th>thirddose</th>\n",
       "    </tr>\n",
       "  </thead>\n",
       "  <tbody>\n",
       "    <tr>\n",
       "      <th>2021-01-10</th>\n",
       "      <td>1959151.0</td>\n",
       "      <td>374613.0</td>\n",
       "      <td>0.0</td>\n",
       "    </tr>\n",
       "    <tr>\n",
       "      <th>2021-01-11</th>\n",
       "      <td>2080280.0</td>\n",
       "      <td>393925.0</td>\n",
       "      <td>0.0</td>\n",
       "    </tr>\n",
       "    <tr>\n",
       "      <th>2021-01-12</th>\n",
       "      <td>2254556.0</td>\n",
       "      <td>407294.0</td>\n",
       "      <td>0.0</td>\n",
       "    </tr>\n",
       "    <tr>\n",
       "      <th>2021-01-13</th>\n",
       "      <td>2494371.0</td>\n",
       "      <td>415656.0</td>\n",
       "      <td>0.0</td>\n",
       "    </tr>\n",
       "    <tr>\n",
       "      <th>2021-01-14</th>\n",
       "      <td>2769164.0</td>\n",
       "      <td>420510.0</td>\n",
       "      <td>0.0</td>\n",
       "    </tr>\n",
       "    <tr>\n",
       "      <th>...</th>\n",
       "      <td>...</td>\n",
       "      <td>...</td>\n",
       "      <td>...</td>\n",
       "    </tr>\n",
       "    <tr>\n",
       "      <th>2021-12-02</th>\n",
       "      <td>42851727.0</td>\n",
       "      <td>38964371.0</td>\n",
       "      <td>0.0</td>\n",
       "    </tr>\n",
       "    <tr>\n",
       "      <th>2021-12-03</th>\n",
       "      <td>42872533.0</td>\n",
       "      <td>38990840.0</td>\n",
       "      <td>0.0</td>\n",
       "    </tr>\n",
       "    <tr>\n",
       "      <th>2021-12-04</th>\n",
       "      <td>42897322.0</td>\n",
       "      <td>39025116.0</td>\n",
       "      <td>0.0</td>\n",
       "    </tr>\n",
       "    <tr>\n",
       "      <th>2021-12-05</th>\n",
       "      <td>42913330.0</td>\n",
       "      <td>39045988.0</td>\n",
       "      <td>0.0</td>\n",
       "    </tr>\n",
       "    <tr>\n",
       "      <th>2021-12-06</th>\n",
       "      <td>42930867.0</td>\n",
       "      <td>39067610.0</td>\n",
       "      <td>0.0</td>\n",
       "    </tr>\n",
       "  </tbody>\n",
       "</table>\n",
       "<p>331 rows × 3 columns</p>\n",
       "</div>"
      ],
      "text/plain": [
       "             firstdose  seconddose  thirddose\n",
       "2021-01-10   1959151.0    374613.0        0.0\n",
       "2021-01-11   2080280.0    393925.0        0.0\n",
       "2021-01-12   2254556.0    407294.0        0.0\n",
       "2021-01-13   2494371.0    415656.0        0.0\n",
       "2021-01-14   2769164.0    420510.0        0.0\n",
       "...                ...         ...        ...\n",
       "2021-12-02  42851727.0  38964371.0        0.0\n",
       "2021-12-03  42872533.0  38990840.0        0.0\n",
       "2021-12-04  42897322.0  39025116.0        0.0\n",
       "2021-12-05  42913330.0  39045988.0        0.0\n",
       "2021-12-06  42930867.0  39067610.0        0.0\n",
       "\n",
       "[331 rows x 3 columns]"
      ]
     },
     "execution_count": 33,
     "metadata": {},
     "output_type": "execute_result"
    }
   ],
   "source": [
    "for entry in datalist: \n",
    "    date=parse_date(entry['date'])\n",
    "    for column in ['firstdose', 'seconddose', 'thirddose']:\n",
    "        if pd.isna(doseseriesdf.loc[date, column]): \n",
    "            value= float(entry[column]) if entry[column]!=None else 0.0\n",
    "            doseseriesdf.loc[date, column]=value\n",
    "            \n",
    "doseseriesdf.fillna(0.0, inplace=True)\n",
    "            \n",
    "doseseriesdf"
   ]
  },
  {
   "cell_type": "markdown",
   "id": "b9f1ff00-6b0a-4e45-a2dd-7eb05369bcf1",
   "metadata": {},
   "source": [
    "Figure 1: This table presents the cumulative number of people, of all ages, who have received a first, second & third dose of the COVID-19 vaccination, across England in a 7-day rolling average."
   ]
  },
  {
   "cell_type": "code",
   "execution_count": 34,
   "id": "ccdceece-d3b1-4522-8cbd-07d71903ffec",
   "metadata": {
    "tags": []
   },
   "outputs": [
    {
     "data": {
      "application/vnd.jupyter.widget-view+json": {
       "model_id": "33dd195653594c9d96d96ef375846087",
       "version_major": 2,
       "version_minor": 0
      },
      "text/plain": [
       "HBox(children=(SelectMultiple(description='Doses:', index=(0, 1, 2), options=('firstdose', 'seconddose', 'thir…"
      ]
     },
     "metadata": {},
     "output_type": "display_data"
    },
    {
     "data": {
      "application/vnd.jupyter.widget-view+json": {
       "model_id": "149d3a802470429fb55b2fba41757173",
       "version_major": 2,
       "version_minor": 0
      },
      "text/plain": [
       "Output()"
      ]
     },
     "metadata": {},
     "output_type": "display_data"
    }
   ],
   "source": [
    "series=wdg.SelectMultiple(\n",
    "    options=['firstdose', 'seconddose', 'thirddose'],\n",
    "    value=['firstdose', 'seconddose', 'thirddose'],\n",
    "    rows=3,\n",
    "    description='Doses:',\n",
    "    disabled=False\n",
    ")\n",
    "\n",
    "scale=wdg.RadioButtons(\n",
    "    options=['linear', 'log'],\n",
    "    description='Scale:',\n",
    "    disabled=False\n",
    ")\n",
    "\n",
    "controls=wdg.HBox([series, scale])\n",
    "\n",
    "def doseseries_graph(gcols, gscale):\n",
    "    if gscale=='linear':\n",
    "        logscale=False\n",
    "    else:\n",
    "        logscale=True\n",
    "    ncols=len(gcols)\n",
    "    if ncols>0:\n",
    "        doseseriesdf[list(gcols)].plot(logy=logscale)\n",
    "        plt.show() \n",
    "    else:\n",
    "        print(\"Click to select data for graph\")\n",
    "        print(\"(CTRL-Click to select more than one category)\")\n",
    "\n",
    "graph=wdg.interactive_output(doseseries_graph, {'gcols': series, 'gscale': scale})\n",
    "display(controls, graph)"
   ]
  },
  {
   "cell_type": "markdown",
   "id": "2fe8e512-3a65-42cf-8bd8-793458cf9c1d",
   "metadata": {},
   "source": [
    "Figure 2: The line graph above interactively, presents the trajectory of cumulative number of first, second and third doses received across England. "
   ]
  },
  {
   "cell_type": "code",
   "execution_count": 35,
   "id": "3990fe0a-dbf0-4fd8-ad53-543691ca1036",
   "metadata": {},
   "outputs": [
    {
     "data": {
      "application/vnd.jupyter.widget-view+json": {
       "model_id": "9a31adebebe14f5d891d66d095dfc77d",
       "version_major": 2,
       "version_minor": 0
      },
      "text/plain": [
       "Button(button_style='success', description='Refresh data', icon='redo', style=ButtonStyle(), tooltip='Click to…"
      ]
     },
     "metadata": {},
     "output_type": "display_data"
    }
   ],
   "source": [
    "def access_api(button):\n",
    "    filters = [\n",
    "        'areaType=nation'\n",
    "    ]\n",
    "    structure = {\n",
    "        \"date\": \"date\",\n",
    "        \"firstdose\": \"cumPeopleVaccinatedFirstDoseByPublishDate\",\n",
    "        \"seconddose\": \"cumPeopleVaccinatedSecondDoseByPublishDate\",\n",
    "        \"thirddose\": \"cumPeopleVaccinatedThirdDoseByPublishDate\"\n",
    "    }\n",
    "\n",
    "    api = Cov19API(filters=filters, structure=structure)\n",
    "    doseseries=api.get_json()\n",
    "    apibutton.icon=\"check\"\n",
    "    apibutton.disabled=False\n",
    "\n",
    "\n",
    "apibutton=wdg.Button(\n",
    "    description='Refresh data',\n",
    "    disabled=False,\n",
    "    button_style='Success', \n",
    "    tooltip='Click to download current Public Health England data',\n",
    "    icon='fa-redo' \n",
    ")\n",
    "\n",
    "\n",
    "apibutton.on_click(access_api)\n",
    "display(apibutton)"
   ]
  },
  {
   "cell_type": "markdown",
   "id": "35bcab12-071d-4061-8ede-59ee388d74db",
   "metadata": {},
   "source": [
    "Press the button above to refresh the data in the dashboard and consequently the tables and graphs contained within it. "
   ]
  }
 ],
 "metadata": {
  "kernelspec": {
   "display_name": "Python 3 (ipykernel)",
   "language": "python",
   "name": "python3"
  },
  "language_info": {
   "codemirror_mode": {
    "name": "ipython",
    "version": 3
   },
   "file_extension": ".py",
   "mimetype": "text/x-python",
   "name": "python",
   "nbconvert_exporter": "python",
   "pygments_lexer": "ipython3",
   "version": "3.9.6"
  }
 },
 "nbformat": 4,
 "nbformat_minor": 5
}
